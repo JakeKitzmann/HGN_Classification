{
 "cells": [
  {
   "cell_type": "code",
   "execution_count": 1,
   "metadata": {},
   "outputs": [],
   "source": [
    "%matplotlib inline\n",
    "import numpy as np\n",
    "import matplotlib.pyplot as plt\n",
    "import matplotlib as mpl\n",
    "import pandas as pd\n",
    "import seaborn as sns\n",
    "from sklearn import (datasets, metrics,\n",
    "                     model_selection as skms,\n",
    "                     naive_bayes, neighbors)"
   ]
  },
  {
   "cell_type": "code",
   "execution_count": 4,
   "metadata": {},
   "outputs": [
    {
     "ename": "AttributeError",
     "evalue": "'numpy.ndarray' object has no attribute 'head'",
     "output_type": "error",
     "traceback": [
      "\u001b[1;31m---------------------------------------------------------------------------\u001b[0m",
      "\u001b[1;31mAttributeError\u001b[0m                            Traceback (most recent call last)",
      "Cell \u001b[1;32mIn[4], line 2\u001b[0m\n\u001b[0;32m      1\u001b[0m iris \u001b[38;5;241m=\u001b[39m datasets\u001b[38;5;241m.\u001b[39mload_iris()\n\u001b[1;32m----> 2\u001b[0m \u001b[43miris\u001b[49m\u001b[38;5;241;43m.\u001b[39;49m\u001b[43mdata\u001b[49m\u001b[38;5;241;43m.\u001b[39;49m\u001b[43mhead\u001b[49m()\n\u001b[0;32m      3\u001b[0m (iris_train_ftrs, iris_test_ftrs,\n\u001b[0;32m      4\u001b[0m  iris_train_tgt, iris_test_tgt) \u001b[38;5;241m=\u001b[39m skms\u001b[38;5;241m.\u001b[39mtrain_test_split(iris\u001b[38;5;241m.\u001b[39mdata,\n\u001b[0;32m      5\u001b[0m                                                         iris\u001b[38;5;241m.\u001b[39mtarget,\n\u001b[0;32m      6\u001b[0m                                                         test_size\u001b[38;5;241m=\u001b[39m\u001b[38;5;241m.25\u001b[39m)\n\u001b[0;32m      7\u001b[0m \u001b[38;5;66;03m# Note: your book sets the random_state parameter to get the same results \u001b[39;00m\n\u001b[0;32m      8\u001b[0m \u001b[38;5;66;03m# each time -- see commented-out code below\u001b[39;00m\n\u001b[0;32m      9\u001b[0m \u001b[38;5;66;03m#(iris_train_ftrs, iris_test_ftrs,\u001b[39;00m\n\u001b[1;32m   (...)\u001b[0m\n\u001b[0;32m     14\u001b[0m \n\u001b[0;32m     15\u001b[0m \u001b[38;5;66;03m# Optional: set up pandas DataFrame to help visualize dataset \u001b[39;00m\n",
      "\u001b[1;31mAttributeError\u001b[0m: 'numpy.ndarray' object has no attribute 'head'"
     ]
    }
   ],
   "source": [
    "iris = datasets.load_iris()\n",
    "(iris_train_ftrs, iris_test_ftrs,\n",
    " iris_train_tgt, iris_test_tgt) = skms.train_test_split(iris.data,\n",
    "                                                        iris.target,\n",
    "                                                        test_size=.25)\n",
    "# Note: your book sets the random_state parameter to get the same results \n",
    "# each time -- see commented-out code below\n",
    "#(iris_train_ftrs, iris_test_ftrs,\n",
    "# iris_train_tgt, iris_test_tgt) = skms.train_test_split(iris.data,\n",
    "#                                                        iris.target,\n",
    "#                                                        test_size=.90,\n",
    "#                                                        random_state=42)\n",
    "\n",
    "# Optional: set up pandas DataFrame to help visualize dataset \n",
    "iris_df = pd.DataFrame(iris.data,\n",
    "                       columns=iris.feature_names)\n",
    "iris_df.head(20)\n",
    "iris_df['target'] = iris.target # note: keeps targets as their original 0,1,2\n",
    "## Note: below is an option to switch the 0, 1, 2 to their categorical labels for \n",
    "## visualization purposes (converting to a pandas Series, which is the \n",
    "## pandas version for a 1D array so that we can apply the map function which\n",
    "## applies a function to each item in the series):\n",
    "\n",
    "## iris.target is size (150,)     (0,0,0, ... 1,1,1,1, ... 2,2,2)\n",
    "## iris.target_names is size(3,)  (setosa, versicolor, virginica)\n",
    "\n",
    "## comment/uncomment next line to see change in \"target\" column\n",
    "iris_df['target'] = pd.Series(iris.target).map(lambda x: iris.target_names[x])\n",
    "display(pd.concat([iris_df.head(3),\n",
    "                   iris_df.tail(3)]))\n",
    "sns.pairplot(iris_df, hue='target');"
   ]
  }
 ],
 "metadata": {
  "kernelspec": {
   "display_name": "Python 3",
   "language": "python",
   "name": "python3"
  },
  "language_info": {
   "codemirror_mode": {
    "name": "ipython",
    "version": 3
   },
   "file_extension": ".py",
   "mimetype": "text/x-python",
   "name": "python",
   "nbconvert_exporter": "python",
   "pygments_lexer": "ipython3",
   "version": "3.10.11"
  }
 },
 "nbformat": 4,
 "nbformat_minor": 2
}
